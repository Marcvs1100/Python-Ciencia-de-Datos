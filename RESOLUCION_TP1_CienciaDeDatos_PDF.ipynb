{
  "cells": [
    {
      "cell_type": "markdown",
      "metadata": {
        "id": "view-in-github",
        "colab_type": "text"
      },
      "source": [
        "<a href=\"https://colab.research.google.com/github/Marcvs1100/Python-Ciencia-de-Datos/blob/main/RESOLUCION_TP1_CienciaDeDatos_PDF.ipynb\" target=\"_parent\"><img src=\"https://colab.research.google.com/assets/colab-badge.svg\" alt=\"Open In Colab\"/></a>"
      ]
    },
    {
      "cell_type": "markdown",
      "metadata": {
        "id": "2X7U2w7IebLm"
      },
      "source": [
        "# Trabajo Practico N1\n",
        "# Introduction al Dessarrollo en Python"
      ]
    },
    {
      "cell_type": "markdown",
      "metadata": {
        "id": "kwBfCKCRNyxc"
      },
      "source": [
        "**EJERCICIO 1**\n",
        "\n",
        "Determinar si un numero ingresado por el usuario es PAR"
      ]
    },
    {
      "cell_type": "code",
      "source": [
        "numero = int(input(\"Ingrese un número: \"))\n",
        "\n",
        "if numero % 2 == 0:\n",
        "    print(\"El número ingresado es par.\")"
      ],
      "metadata": {
        "id": "IWNFBLyTFp6F"
      },
      "execution_count": null,
      "outputs": []
    },
    {
      "cell_type": "markdown",
      "metadata": {
        "id": "KKY6JsexOCUy"
      },
      "source": [
        "**EJERCICIO 2**\n",
        "\n",
        "Determinar si un numero ingresado por el usuario esta DENTRO DEL RANGO [1,10] y es par. MUESTRE UN MENSAJE EN CASO CONTRARIO 'NÚMERO FUERA DEL RANGO'"
      ]
    },
    {
      "cell_type": "code",
      "source": [
        "numero = int(input(\"Ingrese un número: \"))\n",
        "\n",
        "if numero >= 1 and numero <= 10 and numero % 2 == 0:\n",
        "    print(\"El número ingresado está dentro del rango [1, 10] y es par.\")\n",
        "else:\n",
        "    print(\"NÚMERO FUERA DEL RANGO\")"
      ],
      "metadata": {
        "id": "bHIg5IbuGWlV"
      },
      "execution_count": null,
      "outputs": []
    },
    {
      "cell_type": "markdown",
      "metadata": {
        "id": "cfitfYKpQK2O"
      },
      "source": [
        "**EJERCICIO 3 CICLO FOR**\n",
        "\n",
        "\n",
        "Solicitar al usuario que ingrese 10 números. Calcule la suma de todos los números ingresados y  cuente cuántos de ellos son par.\n"
      ]
    },
    {
      "cell_type": "code",
      "source": [
        "suma = 0\n",
        "contador_pares = 0\n",
        "\n",
        "for i in range(10):\n",
        "    numero = int(input(\"Ingrese un número: \"))\n",
        "    suma += numero\n",
        "    if numero % 2 == 0:\n",
        "        contador_pares += 1\n",
        "\n",
        "print(\"La suma de los números ingresados es:\", suma)\n",
        "print(\"Cantidad de números pares:\", contador_pares)"
      ],
      "metadata": {
        "id": "ywxWu8z8Hbfj"
      },
      "execution_count": null,
      "outputs": []
    },
    {
      "cell_type": "markdown",
      "metadata": {
        "id": "7YyBaMyyRh7I"
      },
      "source": [
        "**EJERCICIOS 4**\n",
        "\n",
        "Mostrar todos los números presentes en el rango [56,1230]\n",
        "Solicitar al usuario que ingrese el rango [a,b] y muestre todos los números pertenecientes a él."
      ]
    },
    {
      "cell_type": "code",
      "source": [
        "a = int(56)\n",
        "b = int(1230)\n",
        "\n",
        "for i in range(a,b+1):\n",
        "    print(i)"
      ],
      "metadata": {
        "id": "WZj6M4pjIQ0M"
      },
      "execution_count": null,
      "outputs": []
    },
    {
      "cell_type": "markdown",
      "metadata": {
        "id": "sCYdUm5DOpPk"
      },
      "source": [
        "**EJERCICIO 5 CICLO WHILE**\n",
        "\n",
        "Solicitar al usuario que ingrese un número, si es negativo o nulo , solicitar reiteradamente hasta que ingrese un numero positivo."
      ]
    },
    {
      "cell_type": "code",
      "source": [
        "numero = int(input(\"Ingrese un número positivo: \"))\n",
        "while numero <= 0:\n",
        "    numero = int(input(\"El número ingresado no es positivo. Ingrese un número positivo: \"))"
      ],
      "metadata": {
        "colab": {
          "base_uri": "https://localhost:8080/"
        },
        "id": "kQMK27l1Kehj",
        "outputId": "91789fdf-7f26-4b0a-9a57-51309f347484"
      },
      "execution_count": null,
      "outputs": [
        {
          "name": "stdout",
          "output_type": "stream",
          "text": [
            "Ingrese un número positivo: 0\n",
            "El número ingresado no es positivo. Ingrese un número positivo: -4\n",
            "El número ingresado no es positivo. Ingrese un número positivo: 6\n"
          ]
        }
      ]
    },
    {
      "cell_type": "markdown",
      "metadata": {
        "id": "Snkm3EDCSb6n"
      },
      "source": [
        "**EJERCICIO 6**\n",
        "\n",
        "Solicitar al usuario que ingrese un número, si el número es positivo , solicitar reiteradamente hasta que ingrese un numero negativo. Luego mostrar dicho número si es par, en caso contrario mostrar un mensaje 'número ingresado impar'."
      ]
    },
    {
      "cell_type": "code",
      "source": [
        "numero = int(input(\"Ingrese un número: \"))\n",
        "while numero >= 0:\n",
        "    numero = int(input(\"Ingrese un número negativo: \"))\n",
        "if numero % 2 == 0:\n",
        "    print(f\"El número ingresado ({numero}) es par.\")\n",
        "else:\n",
        "    print(\"Número ingresado impar.\")\n"
      ],
      "metadata": {
        "id": "5NaPyPt5Mns9"
      },
      "execution_count": null,
      "outputs": []
    },
    {
      "cell_type": "markdown",
      "metadata": {
        "id": "sypNigFYS3iU"
      },
      "source": [
        "**EJERCICIO 7 VECTORES CON CICLO FOR**\n",
        "\n",
        "Solicitar al usuario que ingrese la cantidad de elementos del vector.\n",
        "Ingresar cada elemento del vector y calcular su promedio.AYUDA: EL PROMEDIO ES LA SUMA DE TODOS LOS NÚMEROS DIVIDO LA CANTIDAD TOTAL.\n",
        "Mostrar el vector."
      ]
    },
    {
      "cell_type": "code",
      "source": [
        "n = int(input(\"Ingrese la cantidad de elementos del vector: \"))\n",
        "\n",
        "vector = []\n",
        "for i in range(n):\n",
        "    elemento = float(input(f\"Ingrese el elemento {i+1}: \"))\n",
        "    vector.append(elemento)\n",
        "\n",
        "promedio = sum(vector) / len(vector)\n",
        "\n",
        "print(f\"El vector ingresado es: {vector}\")\n",
        "print(f\"El promedio del vector es: {promedio}\")\n"
      ],
      "metadata": {
        "id": "Wuu2JkpjNNF3"
      },
      "execution_count": null,
      "outputs": []
    },
    {
      "cell_type": "code",
      "source": [],
      "metadata": {
        "id": "woYes1QYNM8H"
      },
      "execution_count": null,
      "outputs": []
    },
    {
      "cell_type": "markdown",
      "metadata": {
        "id": "W15_ajQyULBo"
      },
      "source": [
        "**EJERCICIO 8 LISTA CON CICLO FOR**\n",
        "\n",
        "Solicitar a 10 usuario que ingresen los siguientes datos en el formato lista.\n",
        "\n",
        "['NOMBRE','APELLIDO', 'DNI','GASTOS MENSUALES DE HOGAR']\n",
        "\n",
        "Ingresar el final de la lista los siguientes usuarios:\n",
        "\n",
        "['ESTEBAN','LOPEZ', '45675400','190800.80']\n",
        "\n",
        "['NOELIA','ALEJA', '46906875','85900.50']\n",
        "\n",
        "Mostrar el vector.\n",
        "Eliminar el primer usuario de la lista."
      ]
    },
    {
      "cell_type": "code",
      "source": [
        "usuarios = []\n",
        "for i in range(10):\n",
        "    nombre = input(\"Ingrese su nombre: \")\n",
        "    apellido = input(\"Ingrese su apellido: \")\n",
        "    dni = input(\"Ingrese su DNI: \")\n",
        "    gastos_mensuales = input(\"Ingrese sus gastos mensuales de hogar: \")\n",
        "    usuarios.append([nombre, apellido, dni, gastos_mensuales])\n",
        "\n",
        "usuarios.append(['ESTEBAN', 'LOPEZ', '45675400', '190800.80'])\n",
        "usuarios.append(['NOELIA', 'ALEJA', '46906875', '85900.50'])\n",
        "\n",
        "print(usuarios)\n",
        "\n",
        "usuarios.pop(0)\n",
        "\n",
        "print(usuarios)"
      ],
      "metadata": {
        "id": "df34i5bZRogI"
      },
      "execution_count": null,
      "outputs": []
    },
    {
      "cell_type": "markdown",
      "metadata": {
        "id": "5x1DqNkpTWzi"
      },
      "source": [
        "**EJERCICIO 9 LISTA CON CICLO FOR**\n",
        "\n",
        "Buscar en la web los datos pablacionales de todas las provicias de Argentina , generando una lista con los siguiente información.\n",
        "\n",
        "['PROVINCIA','CANTIDAD DE HABITANTES', 'CONSUMO ELECTRICO PER CAPITA','SUPERFICIE EN M^2']\n",
        "\n",
        "\n",
        "\n",
        "Mostrar TODOS LOS DATOS DEL LISTADO.\n",
        "\n"
      ]
    },
    {
      "cell_type": "code",
      "source": [
        "Provincias = [\n",
        "    {\"Provincia\": \"Buenos Aires\", \"Poblacion\": 16666000, \"Consumo electrico per capita\": 1000, \"Superficie\": 307571},\n",
        "    {\"Provincia\": \"Córdoba\", \"Poblacion\": 3567654, \"Consumo electrico per capita\": 900, \"Superficie\": 165321},\n",
        "    {\"Provincia\": \"Santa Fe\", \"Poblacion\": 3397532, \"Consumo electrico per capita\": 950, \"Superficie\": 133007}\n",
        "]\n",
        "\n",
        "for provincia in Provincias:\n",
        "    print(\"Provincia:\", provincia[\"Provincia\"])\n",
        "    print(\"Poblacion:\", provincia[\"Poblacion\"])\n",
        "    print(\"Consumo electrico per capita:\", provincia[\"Consumo electrico per capita\"])\n",
        "    print(\"Superficie:\", provincia[\"Superficie\"])\n",
        "    print()\n"
      ],
      "metadata": {
        "id": "stvXRGwVVGLZ"
      },
      "execution_count": null,
      "outputs": []
    },
    {
      "cell_type": "markdown",
      "metadata": {
        "id": "SVaFh43fTwt3"
      },
      "source": [
        "**EJERCICIO 10 LISTAS**\n",
        "\n",
        "Crear una lista con información de estudianes de un colegio donde incluya los siguientes items:\n",
        "\n",
        "\n",
        "*   curso y división del aula del alumno\n",
        "*   nombre y apellidos\n",
        "*   DNI\n",
        "*   cantidad de notas en el primer trimestre\n",
        "*   INGRESAR CADA UNA DE ESAS NOTAS, POR EL USUARIO\n",
        "*   promedio del trimestre\n",
        "\n",
        "Mostrar todos los nombres y apellidos de los  alumnos\n",
        "Mostrar los alumnos con promedio mayor o igual a 6\n",
        "\n",
        "\n"
      ]
    },
    {
      "cell_type": "code",
      "source": [
        "estudiantes = []\n",
        "\n",
        "while True:\n",
        "    estudiante = {}\n",
        "    estudiante['curso'] = input('Ingrese el curso y división del aula del alumno: ')\n",
        "    estudiante['nombre'] = input('Ingrese el nombre y apellidos del alumno: ')\n",
        "    estudiante['dni'] = input('Ingrese el DNI del alumno: ')\n",
        "    cantidad_notas = int(input('Ingrese la cantidad de notas en el primer trimestre: '))\n",
        "    notas = []\n",
        "    for i in range(cantidad_notas):\n",
        "        nota = float(input(f'Ingrese la nota {i+1}: '))\n",
        "        notas.append(nota)\n",
        "    estudiante['notas'] = notas\n",
        "    estudiante['promedio'] = sum(notas) / len(notas)\n",
        "    estudiantes.append(estudiante)\n",
        "\n",
        "    continuar = input('¿Desea ingresar otro estudiante? (s/n): ')\n",
        "    if continuar.lower() != 's':\n",
        "        break\n",
        "\n",
        "print('Nombres y apellidos de los estudiantes:')\n",
        "for estudiante in estudiantes:\n",
        "    print(estudiante['nombre'])\n",
        "\n",
        "print('Estudiantes con promedio mayor o igual a 6:')\n",
        "for estudiante in estudiantes:\n",
        "    if estudiante['promedio'] >= 6:\n",
        "        print(estudiante['nombre'])\n"
      ],
      "metadata": {
        "id": "lJI8xXZtglF0"
      },
      "execution_count": null,
      "outputs": []
    },
    {
      "cell_type": "code",
      "source": [],
      "metadata": {
        "id": "jo7Csp6-gk7K"
      },
      "execution_count": null,
      "outputs": []
    }
  ],
  "metadata": {
    "colab": {
      "provenance": [],
      "include_colab_link": true
    },
    "kernelspec": {
      "display_name": "Python 3",
      "name": "python3"
    },
    "language_info": {
      "name": "python"
    }
  },
  "nbformat": 4,
  "nbformat_minor": 0
}